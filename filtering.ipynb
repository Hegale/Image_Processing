{
 "cells": [
  {
   "cell_type": "code",
   "execution_count": 1,
   "id": "de7a5ca0-419f-47ca-b1bb-2944a530a548",
   "metadata": {},
   "outputs": [],
   "source": [
    "import cv2\n",
    "import matplotlib.pyplot as plt\n",
    "import warnings\n",
    "warnings.filterwarnings(action='ignore')\n",
    "import numpy as np\n",
    "import math"
   ]
  },
  {
   "cell_type": "code",
   "execution_count": 2,
   "id": "6986765a-f570-4264-88a9-19c1e1bcb7c9",
   "metadata": {},
   "outputs": [
    {
     "name": "stdout",
     "output_type": "stream",
     "text": [
      "width = 720, height = 404, fps = 30\n"
     ]
    }
   ],
   "source": [
    "dip = cv2.VideoCapture('C:\\\\LastbackUp\\\\디지털영상처리\\\\assignment1\\\\out.avi',0)\n",
    "\n",
    "w = round(dip.get(cv2.CAP_PROP_FRAME_WIDTH))\n",
    "h = round(dip.get(cv2.CAP_PROP_FRAME_HEIGHT))\n",
    "fps = dip.get(cv2.CAP_PROP_FPS)\n",
    "\n",
    "print(\"width = %d, height = %d, fps = %d\" %(w, h, fps))"
   ]
  },
  {
   "cell_type": "code",
   "execution_count": 3,
   "id": "911189d4-a4e2-47b0-82c2-cc157fab0587",
   "metadata": {},
   "outputs": [],
   "source": [
    "fourcc = cv2.VideoWriter_fourcc(*'DIVX')\n",
    "out = cv2.VideoWriter('C:\\\\LastbackUp\\\\디지털영상처리\\\\assignment1\\\\filtered.avi', fourcc, 30.0, (w, h))"
   ]
  },
  {
   "cell_type": "code",
   "execution_count": 4,
   "id": "21772bbc-c77b-45b4-a42e-66a87f3a1ad6",
   "metadata": {},
   "outputs": [],
   "source": [
    "# border 의 기본값이 미러패딩이기 때문에, 따로 지정하지는 않는다\n",
    "class Filtering :\n",
    "    # 이동평균 필터\n",
    "    def avg(self, k, img) : \n",
    "        f = f / (k*k)\n",
    "        result = cv2.filter2D(img, -1, f)\n",
    "        return result\n",
    "    # 중간값 필터\n",
    "    def med(self, k, img) :\n",
    "        return cv2.medianBlur(img, k)\n",
    "    # 라플라시안 필터\n",
    "    def lap(self, k, img) :\n",
    "        if k == 3 :\n",
    "            f = np.array([[0, 1, 0], [1, -4, 1], [0, 1, 0]])\n",
    "        elif k == 5:\n",
    "            f = np.array([[4, 1, 0, 1, 4],\n",
    "                          [1, -2, -3, -2, 1],\n",
    "                          [0, -3, -4, -3, 0],\n",
    "                          [1, -2, -3, -2, 1],\n",
    "                          [4, 1, 0, 1, 4]])\n",
    "        elif k == 8:\n",
    "            f = np.array([[10, 5, 2, 1, 2, 5, 10],\n",
    "                          [5, 0, -3, -4, -3, 0, 5],\n",
    "                          [2, -3, -6, -7, -6, -3, 2],\n",
    "                          [1, -4, -7, -8, -7, -4, 1],\n",
    "                          [2, -3, -6, -7, -6, -3, 2],\n",
    "                          [5, 0, -3, -4, -3, 0, 5],\n",
    "                          [10, 5, 2, 1, 2, 5, 10]])\n",
    "        else :\n",
    "            print(\"허용 범위를 넘은 필터 사이즈입니다. 다시 시도해 주세요.\")\n",
    "            f = np.zeros((k, k), np.float32)\n",
    "        result = cv2.filter2D(img, -1, f)\n",
    "        return result\n",
    "    # sobel 필터\n",
    "    def sob(self, k, img) :\n",
    "        fx = cv2.getDerivKernels(1, 0, k)\n",
    "        fy = cv2.getDerivKernels(0, 1, k)\n",
    "        hor = cv2.filter2D(img, -1, np.outer(fx[0], fx[1]))\n",
    "        ver = cv2.filter2D(img, -1, np.outer(fy[0], fx[1]))\n",
    "        return hor + ver\n",
    "    #Gaussian 필터 적용\n",
    "    def gas(self, k, img) :\n",
    "        s1 = 1 / (2 * math.pi)\n",
    "        f = np.zeros((k, k))\n",
    "        K = int((k-1)/2)\n",
    "        for i in range(-K, K+1) :\n",
    "            for j in range(-K, K+1) :\n",
    "                s2 = (i**2 + j**2) / 2\n",
    "                s3 = math.exp(-s2)\n",
    "                f[i+K, j+K] = s1 * s3\n",
    "        result = cv2.filter2D(img, -1, f)\n",
    "        return result"
   ]
  },
  {
   "cell_type": "code",
   "execution_count": 5,
   "id": "bd430651-dc34-4bf9-b7a6-5e255321b0bb",
   "metadata": {},
   "outputs": [],
   "source": [
    "class Histogram :\n",
    "    three = ('b', 'g', 'r')\n",
    "    # 각 밴드의 히스토그램\n",
    "    def hist1_(self, t) :\n",
    "        plt.subplot(1, 3, 1)\n",
    "        for i, rgb in enumerate(self.three) :\n",
    "            hist1 = cv2.calcHist([t], [i], None, [256], [0, 256])\n",
    "            plt.plot(hist1, color = rgb)\n",
    "        plt.title('RGB Histogram')\n",
    "    #누적 히스토그램을 위한 리스트 누적 함수\n",
    "    def sumlist(self, lst) :\n",
    "        new = []\n",
    "        new.append(lst[0])\n",
    "        for i in range(1, 256) :\n",
    "            new.append(lst[i] + new[i-1])\n",
    "        return new\n",
    "    # 각 밴드의 누적 히스토그램\n",
    "    def hist2_(self, t):\n",
    "        plt.subplot(1, 3, 2)\n",
    "        for i, rgb in enumerate(self.three):\n",
    "            hist2 = cv2.calcHist([t], [i], None, [256], [0, 256])\n",
    "            hist3 = np.concatenate(hist2, axis = None)\n",
    "            plt.plot(self.sumlist(hist3), color = rgb)\n",
    "        plt.title('RGB Cumulative Histogram')\n",
    "    # 흑백 히스토그램\n",
    "    def hist3_(self, t) :\n",
    "        gray = cv2.cvtColor(t, cv2.COLOR_BGR2GRAY)\n",
    "        plt.subplot(1, 3, 3)\n",
    "        hist4 = cv2.calcHist([gray], [0], None, [256], [0, 256])\n",
    "        plt.plot(hist4, color = 'gray')\n",
    "        plt.title('Grayscale Histogram')"
   ]
  },
  {
   "cell_type": "code",
   "execution_count": 7,
   "id": "348ac58a-4d06-489e-901a-058975e158ff",
   "metadata": {},
   "outputs": [
    {
     "name": "stdout",
     "output_type": "stream",
     "text": [
      "=========================================================================================\n",
      "이동평균 필터 : 1, 중간값 필터 : 2, Laplacian 필터 : 3, Sobel 필터 : 4, Gaussian 필터 : 5\n",
      "=========================================================================================\n"
     ]
    },
    {
     "name": "stdin",
     "output_type": "stream",
     "text": [
      "필터 종류 :  3\n",
      "필터 크기 :  3\n"
     ]
    }
   ],
   "source": [
    "print(\"=========================================================================================\")\n",
    "print(\"이동평균 필터 : 1, 중간값 필터 : 2, Laplacian 필터 : 3, Sobel 필터 : 4, Gaussian 필터 : 5\")\n",
    "print(\"=========================================================================================\")\n",
    "n = int(input(\"필터 종류 : \"))\n",
    "k = int(input(\"필터 크기 : \"))"
   ]
  },
  {
   "cell_type": "code",
   "execution_count": 8,
   "id": "dd963690-bbf6-4699-bf6e-fe993abb1ec5",
   "metadata": {},
   "outputs": [],
   "source": [
    "flt = Filtering()\n",
    "\n",
    "while(dip.isOpened()) :\n",
    "    ret, frame = dip.read()\n",
    "    if ret :\n",
    "        if n == 1:\n",
    "            result = flt.avg(k, frame)\n",
    "        elif n == 2:\n",
    "            result = flt.med(k, frame)\n",
    "        elif n == 3:\n",
    "            result = flt.lap(k, frame)\n",
    "        elif n == 4:\n",
    "            result = flt.sob(k, frame)\n",
    "        elif n == 5:\n",
    "            result = flt.gas(k, frame)\n",
    "            \n",
    "        out.write(result)\n",
    "        if 0xFF == ord('q'):\n",
    "            break\n",
    "    else:\n",
    "        break\n",
    "dip.release()\n",
    "cv2.destroyAllWindows()"
   ]
  },
  {
   "cell_type": "code",
   "execution_count": 9,
   "id": "f92fb98e-90b8-4f6d-9eb2-929abbf39ad6",
   "metadata": {},
   "outputs": [
    {
     "data": {
      "image/png": "[encoded data removed]",
      "text/plain": [
       "<Figure size 1080x216 with 3 Axes>"
      ]
     },
     "metadata": {
      "needs_background": "light"
     },
     "output_type": "display_data"
    }
   ],
   "source": [
    "hst = Histogram()\n",
    "fltdip = cv2.VideoCapture('C:\\\\LastbackUp\\\\디지털영상처리\\\\assignment1\\\\filtered.avi', 0)\n",
    "plt.figure(figsize = (15, 3))\n",
    "\n",
    "while(fltdip.isOpened()):\n",
    "    ret, frame = fltdip.read()\n",
    "    if ret:\n",
    "        cv2.imshow('filtered_image', frame)\n",
    "        hst.hist1_(frame)\n",
    "        hst.hist2_(frame)\n",
    "        hst.hist3_(frame)\n",
    "        \n",
    "        if cv2.waitKey(20) & 0xFF == ord('q') :\n",
    "            break\n",
    "    else:\n",
    "        break\n",
    "plt.show()\n",
    "fltdip.release()\n",
    "cv2.destroyAllWindows()"
   ]
  },
  {
   "cell_type": "code",
   "execution_count": null,
   "id": "56538e97-e2b4-49b5-84f1-d316b3eb36d8",
   "metadata": {},
   "outputs": [],
   "source": []
  }
 ],
 "metadata": {
  "kernelspec": {
   "display_name": "GIS",
   "language": "python",
   "name": "gis"
  },
  "language_info": {
   "codemirror_mode": {
    "name": "ipython",
    "version": 3
   },
   "file_extension": ".py",
   "mimetype": "text/x-python",
   "name": "python",
   "nbconvert_exporter": "python",
   "pygments_lexer": "ipython3",
   "version": "3.8.12"
  }
 },
 "nbformat": 4,
 "nbformat_minor": 5
}
