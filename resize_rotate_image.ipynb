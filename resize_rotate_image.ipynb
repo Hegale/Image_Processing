{
 "cells": [
  {
   "cell_type": "code",
   "execution_count": 1,
   "metadata": {},
   "outputs": [],
   "source": [
    "import math\n",
    "import cv2\n",
    "import numpy as np"
   ]
  },
  {
   "cell_type": "code",
   "execution_count": 2,
   "metadata": {},
   "outputs": [
    {
     "name": "stdout",
     "output_type": "stream",
     "text": [
      "width = 720, height = 404, fps = 29\n"
     ]
    }
   ],
   "source": [
    "dip = cv2.VideoCapture('assignment1.mp4', 0)\n",
    "\n",
    "w = round(dip.get(cv2.CAP_PROP_FRAME_WIDTH))\n",
    "h = round(dip.get(cv2.CAP_PROP_FRAME_HEIGHT)) \n",
    "fps = dip.get(cv2.CAP_PROP_FPS)        #크기와 초당 프레임 선언\n",
    "\n",
    "print(\"width = %d, height = %d, fps = %d\" %(w, h, fps))"
   ]
  },
  {
   "cell_type": "code",
   "execution_count": 3,
   "metadata": {},
   "outputs": [
    {
     "name": "stdin",
     "output_type": "stream",
     "text": [
      "가로 비율 :  1\n",
      "세로 비율 :  1\n",
      "회전 각도(-180 ~ 180) :  45\n"
     ]
    },
    {
     "name": "stdout",
     "output_type": "stream",
     "text": [
      "역방향 = 1, 순방향 = 2\n"
     ]
    },
    {
     "name": "stdin",
     "output_type": "stream",
     "text": [
      "변환 방법 :  1\n"
     ]
    }
   ],
   "source": [
    "ratio_w = float(input('가로 비율 : '))\n",
    "ratio_h = float(input('세로 비율 : '))\n",
    "degree = float(input('회전 각도(-180 ~ 180) : '))\n",
    "print(\"역방향 = 1, 순방향 = 2\")\n",
    "n = int(input('변환 방법 : '))"
   ]
  },
  {
   "cell_type": "code",
   "execution_count": 4,
   "metadata": {},
   "outputs": [],
   "source": [
    "# 파이썬 내 연산을 위해 radian으로 변환, 영상 특성에 따라 음수로 변환\n",
    "radian = -math.radians(degree) \n",
    "a = math.cos(-radian)\n",
    "b = math.sin(-radian)\n",
    "#scaled는 가로/세로비를 적용한 새 크기\n",
    "scaled_w = w*ratio_w \n",
    "scaled_h = h*ratio_h \n",
    "if n == 1 :\n",
    "    if degree <= 90 and degree >= 0 : \n",
    "        d1 = 0\n",
    "        d2 = scaled_w*math.sin(-radian)\n",
    "    elif degree > 90 and degree <= 180 :\n",
    "        d1 = scaled_w*math.cos(math.radians(180-degree))\n",
    "        d2 = scaled_w*math.sin(math.radians(180-degree))+scaled_h*math.cos(math.radians(180-degree))\n",
    "    elif degree < 0 and degree >= -90 :    \n",
    "        d1 = scaled_h*math.sin(radian)\n",
    "        d2 = 0\n",
    "    elif degree < -90 and degree >= -180 :\n",
    "        radian = math.radians(180+degree)\n",
    "    else :\n",
    "        print(\"지정된 범위 내의 값을 입력해 주세요.\")"
   ]
  },
  {
   "cell_type": "code",
   "execution_count": 5,
   "metadata": {},
   "outputs": [],
   "source": [
    "#new_w/h는 회전과 확대/축소를 모두 적용한 크기\n",
    "new_w = math.ceil(abs(scaled_w*math.cos(radian))+abs(scaled_h*math.sin(radian))) \n",
    "new_h = math.ceil(abs(scaled_w*math.sin(radian))+abs(scaled_h*math.cos(radian))) \n",
    "\n",
    "if degree < -90 and degree >= -180 and n == 1 :\n",
    "    d1 = new_w\n",
    "    d2 = scaled_h*math.cos(radian)\n",
    "\n",
    "fourcc = cv2.VideoWriter_fourcc(*'DIVX') \n",
    "out = cv2.VideoWriter('D:\\\\assignment1\\\\output.avi', fourcc, 30.0, (new_w,new_h))"
   ]
  },
  {
   "cell_type": "code",
   "execution_count": 6,
   "metadata": {},
   "outputs": [],
   "source": [
    "if n == 1 :\n",
    "    rotation_matrix = np.array([[a, b, (1-a)*(d1)-b*(d2)],\n",
    "                                [-b, a, b*(d1)+(1-a)*(d2)]])\n",
    "    transf_matrix = np.array([[1, 0, d1],[0, 1, d2]])\n",
    "else :\n",
    "    rotation_matrix = np.array([[a, b, (1-a)*(new_w/2)-b*(new_h/2)],\n",
    "                                [-b, a, b*(new_w/2)+(1-a)*(new_h/2)]])\n",
    "    transf_matrix = np.array([[1, 0, (new_w-scaled_w)/2],[0, 1, (new_h-scaled_h)/2]])"
   ]
  },
  {
   "cell_type": "code",
   "execution_count": 7,
   "metadata": {},
   "outputs": [],
   "source": [
    "def forward(img) :\n",
    "    new_img = np.full((new_h, new_w, 3), (0,0,0), dtype=np.uint8)\n",
    "    for i in range(0, h):\n",
    "        y = i*ratio_h     \n",
    "        for j in range(0, w):\n",
    "            x = j*ratio_w\n",
    "            new_x = round(math.cos(radian)*x-math.sin(radian)*y\n",
    "                          -math.cos(radian)*(scaled_w/2)+math.sin(radian)*(scaled_h/2) + new_w/2)\n",
    "            new_y = round(math.sin(radian)*x+math.cos(radian)*y\n",
    "                          -math.sin(radian)*(scaled_w/2)-math.cos(radian)*(scaled_h/2) + new_h/2)\n",
    "            \n",
    "            if new_y < new_h and new_y >= 0 and new_x < new_w and new_x >= 0 :\n",
    "                new_img[new_y, new_x,:] = img[i][j][:] \n",
    "    return new_img        "
   ]
  },
  {
   "cell_type": "code",
   "execution_count": 8,
   "metadata": {},
   "outputs": [],
   "source": [
    "def backward(img) :\n",
    "    rsz_img = cv2.resize(img, dsize=(0,0), fx = ratio_w, fy = ratio_h)\n",
    "    tsn_img = cv2.warpAffine(rsz_img, transf_matrix, (3*new_w, 3*new_h))\n",
    "    new_img = cv2.warpAffine(tsn_img, rotation_matrix, (new_w, new_h))\n",
    "    return new_img"
   ]
  },
  {
   "cell_type": "code",
   "execution_count": 9,
   "metadata": {},
   "outputs": [],
   "source": [
    "while(dip.isOpened()) :\n",
    "    ret, frame = dip.read()\n",
    "    \n",
    "    if ret :      \n",
    "        if n == 1 :\n",
    "            result = backward(frame)            \n",
    "        elif n == 2 :\n",
    "            result = forward(frame)\n",
    "        cv2.imshow('nice', result)\n",
    "        out.write(result)\n",
    "                \n",
    "        if cv2.waitKey(10) & 0xFF == ord('q') :\n",
    "            break\n",
    "    else :\n",
    "        break\n",
    "        \n",
    "dip.release()\n",
    "cv2.destroyAllWindows()"
   ]
  }
 ],
 "metadata": {
  "kernelspec": {
   "display_name": "Python 3 (ipykernel)",
   "language": "python",
   "name": "python3"
  },
  "language_info": {
   "codemirror_mode": {
    "name": "ipython",
    "version": 3
   },
   "file_extension": ".py",
   "mimetype": "text/x-python",
   "name": "python",
   "nbconvert_exporter": "python",
   "pygments_lexer": "ipython3",
   "version": "3.9.7"
  }
 },
 "nbformat": 4,
 "nbformat_minor": 4
}
